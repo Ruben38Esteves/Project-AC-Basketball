{
 "cells": [
  {
   "cell_type": "code",
   "execution_count": 3,
   "metadata": {},
   "outputs": [
    {
     "data": {
      "text/plain": [
       "year        False\n",
       "lgID        False\n",
       "tmID        False\n",
       "franchID    False\n",
       "confID      False\n",
       "            ...  \n",
       "confW       False\n",
       "confL       False\n",
       "min         False\n",
       "attend      False\n",
       "arena       False\n",
       "Length: 61, dtype: bool"
      ]
     },
     "execution_count": 3,
     "metadata": {},
     "output_type": "execute_result"
    }
   ],
   "source": [
    "import pandas as pd\n",
    "\n",
    "awards_players_df = pd.read_csv(\"data/awards_players.csv\")\n",
    "coaches_df = pd.read_csv(\"data/coaches.csv\")\n",
    "players_teams_df = pd.read_csv(\"data/players_teams.csv\")\n",
    "players_df = pd.read_csv(\"data/players.csv\")\n",
    "series_post_df = pd.read_csv(\"data/series_post.csv\")\n",
    "teams_post_df = pd.read_csv(\"data/teams_post.csv\")\n",
    "teams_df = pd.read_csv(\"data/teams.csv\")\n",
    "teams_df.isna().any()"
   ]
  }
 ],
 "metadata": {
  "kernelspec": {
   "display_name": "Python 3",
   "language": "python",
   "name": "python3"
  },
  "language_info": {
   "codemirror_mode": {
    "name": "ipython",
    "version": 3
   },
   "file_extension": ".py",
   "mimetype": "text/x-python",
   "name": "python",
   "nbconvert_exporter": "python",
   "pygments_lexer": "ipython3",
   "version": "3.12.5"
  }
 },
 "nbformat": 4,
 "nbformat_minor": 2
}
