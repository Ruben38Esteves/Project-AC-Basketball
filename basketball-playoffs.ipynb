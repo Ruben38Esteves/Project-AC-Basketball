{
 "cells": [
  {
   "cell_type": "markdown",
   "metadata": {},
   "source": [
    "# **BasketBall Playoffs**"
   ]
  },
  {
   "cell_type": "markdown",
   "metadata": {},
   "source": [
    "### CSV information loaded into Dataframes"
   ]
  },
  {
   "cell_type": "code",
   "execution_count": 2,
   "metadata": {},
   "outputs": [
    {
     "data": {
      "text/plain": [
       "bioID           False\n",
       "pos             False\n",
       "firstseason     False\n",
       "lastseason      False\n",
       "height          False\n",
       "weight          False\n",
       "college         False\n",
       "collegeOther    False\n",
       "birthDate       False\n",
       "deathDate       False\n",
       "dtype: bool"
      ]
     },
     "execution_count": 2,
     "metadata": {},
     "output_type": "execute_result"
    }
   ],
   "source": [
    "import pandas as pd\n",
    "\n",
    "awards_players_df = pd.read_csv(\"data/awards_players.csv\")\n",
    "coaches_df = pd.read_csv(\"data/coaches.csv\")\n",
    "players_teams_df = pd.read_csv(\"data/players_teams.csv\")\n",
    "players_df = pd.read_csv(\"data/players.csv\")\n",
    "series_post_df = pd.read_csv(\"data/series_post.csv\")\n",
    "teams_post_df = pd.read_csv(\"data/teams_post.csv\")\n",
    "teams_df = pd.read_csv(\"data/teams.csv\")\n",
    "players_df.isna().all()"
   ]
  },
  {
   "cell_type": "markdown",
   "metadata": {},
   "source": [
    "### Dropping some columns and rows\n",
    "Some invalid player entries were found with null values in every column.\n",
    "\n",
    "We also dropped all columns relative to *lgID* as all rows had the same value in every dataframe\n"
   ]
  },
  {
   "cell_type": "code",
   "execution_count": 3,
   "metadata": {},
   "outputs": [
    {
     "data": {
      "text/html": [
       "<div>\n",
       "<style scoped>\n",
       "    .dataframe tbody tr th:only-of-type {\n",
       "        vertical-align: middle;\n",
       "    }\n",
       "\n",
       "    .dataframe tbody tr th {\n",
       "        vertical-align: top;\n",
       "    }\n",
       "\n",
       "    .dataframe thead th {\n",
       "        text-align: right;\n",
       "    }\n",
       "</style>\n",
       "<table border=\"1\" class=\"dataframe\">\n",
       "  <thead>\n",
       "    <tr style=\"text-align: right;\">\n",
       "      <th></th>\n",
       "      <th>playerID</th>\n",
       "      <th>pos</th>\n",
       "      <th>height</th>\n",
       "      <th>weight</th>\n",
       "      <th>college</th>\n",
       "      <th>collegeOther</th>\n",
       "      <th>birthDate</th>\n",
       "    </tr>\n",
       "  </thead>\n",
       "  <tbody>\n",
       "    <tr>\n",
       "      <th>0</th>\n",
       "      <td>abrahta01w</td>\n",
       "      <td>C</td>\n",
       "      <td>74.0</td>\n",
       "      <td>190</td>\n",
       "      <td>George Washington</td>\n",
       "      <td>NaN</td>\n",
       "      <td>1975-09-27</td>\n",
       "    </tr>\n",
       "    <tr>\n",
       "      <th>1</th>\n",
       "      <td>abrossv01w</td>\n",
       "      <td>F</td>\n",
       "      <td>74.0</td>\n",
       "      <td>169</td>\n",
       "      <td>Connecticut</td>\n",
       "      <td>NaN</td>\n",
       "      <td>1980-07-09</td>\n",
       "    </tr>\n",
       "    <tr>\n",
       "      <th>2</th>\n",
       "      <td>adairje01w</td>\n",
       "      <td>C</td>\n",
       "      <td>76.0</td>\n",
       "      <td>197</td>\n",
       "      <td>George Washington</td>\n",
       "      <td>NaN</td>\n",
       "      <td>1986-12-19</td>\n",
       "    </tr>\n",
       "    <tr>\n",
       "      <th>3</th>\n",
       "      <td>adamsda01w</td>\n",
       "      <td>F-C</td>\n",
       "      <td>73.0</td>\n",
       "      <td>239</td>\n",
       "      <td>Texas A&amp;M</td>\n",
       "      <td>Jefferson College (JC)</td>\n",
       "      <td>1989-02-19</td>\n",
       "    </tr>\n",
       "    <tr>\n",
       "      <th>4</th>\n",
       "      <td>adamsjo01w</td>\n",
       "      <td>C</td>\n",
       "      <td>75.0</td>\n",
       "      <td>180</td>\n",
       "      <td>New Mexico</td>\n",
       "      <td>NaN</td>\n",
       "      <td>1981-05-24</td>\n",
       "    </tr>\n",
       "    <tr>\n",
       "      <th>...</th>\n",
       "      <td>...</td>\n",
       "      <td>...</td>\n",
       "      <td>...</td>\n",
       "      <td>...</td>\n",
       "      <td>...</td>\n",
       "      <td>...</td>\n",
       "      <td>...</td>\n",
       "    </tr>\n",
       "    <tr>\n",
       "      <th>887</th>\n",
       "      <td>zarafr01w</td>\n",
       "      <td>G</td>\n",
       "      <td>70.0</td>\n",
       "      <td>146</td>\n",
       "      <td>NaN</td>\n",
       "      <td>NaN</td>\n",
       "      <td>1976-12-08</td>\n",
       "    </tr>\n",
       "    <tr>\n",
       "      <th>888</th>\n",
       "      <td>zellosh01w</td>\n",
       "      <td>G</td>\n",
       "      <td>70.0</td>\n",
       "      <td>155</td>\n",
       "      <td>Pittsburgh</td>\n",
       "      <td>NaN</td>\n",
       "      <td>1986-08-28</td>\n",
       "    </tr>\n",
       "    <tr>\n",
       "      <th>889</th>\n",
       "      <td>zhengha01w</td>\n",
       "      <td>C</td>\n",
       "      <td>80.0</td>\n",
       "      <td>254</td>\n",
       "      <td>NaN</td>\n",
       "      <td>NaN</td>\n",
       "      <td>1967-03-07</td>\n",
       "    </tr>\n",
       "    <tr>\n",
       "      <th>891</th>\n",
       "      <td>zirkozu01w</td>\n",
       "      <td>G</td>\n",
       "      <td>69.0</td>\n",
       "      <td>145</td>\n",
       "      <td>NaN</td>\n",
       "      <td>NaN</td>\n",
       "      <td>1980-06-06</td>\n",
       "    </tr>\n",
       "    <tr>\n",
       "      <th>892</th>\n",
       "      <td>zollsh01w</td>\n",
       "      <td>G</td>\n",
       "      <td>67.0</td>\n",
       "      <td>148</td>\n",
       "      <td>Virginia</td>\n",
       "      <td>NaN</td>\n",
       "      <td>1986-07-11</td>\n",
       "    </tr>\n",
       "  </tbody>\n",
       "</table>\n",
       "<p>809 rows × 7 columns</p>\n",
       "</div>"
      ],
      "text/plain": [
       "       playerID  pos  height  weight            college  \\\n",
       "0    abrahta01w    C    74.0     190  George Washington   \n",
       "1    abrossv01w    F    74.0     169        Connecticut   \n",
       "2    adairje01w    C    76.0     197  George Washington   \n",
       "3    adamsda01w  F-C    73.0     239          Texas A&M   \n",
       "4    adamsjo01w    C    75.0     180         New Mexico   \n",
       "..          ...  ...     ...     ...                ...   \n",
       "887   zarafr01w    G    70.0     146                NaN   \n",
       "888  zellosh01w    G    70.0     155         Pittsburgh   \n",
       "889  zhengha01w    C    80.0     254                NaN   \n",
       "891  zirkozu01w    G    69.0     145                NaN   \n",
       "892   zollsh01w    G    67.0     148           Virginia   \n",
       "\n",
       "               collegeOther   birthDate  \n",
       "0                       NaN  1975-09-27  \n",
       "1                       NaN  1980-07-09  \n",
       "2                       NaN  1986-12-19  \n",
       "3    Jefferson College (JC)  1989-02-19  \n",
       "4                       NaN  1981-05-24  \n",
       "..                      ...         ...  \n",
       "887                     NaN  1976-12-08  \n",
       "888                     NaN  1986-08-28  \n",
       "889                     NaN  1967-03-07  \n",
       "891                     NaN  1980-06-06  \n",
       "892                     NaN  1986-07-11  \n",
       "\n",
       "[809 rows x 7 columns]"
      ]
     },
     "execution_count": 3,
     "metadata": {},
     "output_type": "execute_result"
    }
   ],
   "source": [
    "#death date isnt relevant and its value is always 0000-00-00\n",
    "players_df = players_df.drop([\"deathDate\",\"firstseason\",\"lastseason\"], axis=\"columns\")\n",
    "#lgID(Winner/Loser) isnt relevant as its value is always the same\n",
    "awards_players_df = awards_players_df.drop([\"lgID\"], axis=\"columns\")\n",
    "coaches_df = coaches_df.drop([\"lgID\"], axis=\"columns\")\n",
    "players_teams_df = players_teams_df.drop([\"lgID\"], axis=\"columns\")\n",
    "series_post_df = series_post_df.drop([\"lgIDWinner\",\"lgIDLoser\"], axis=\"columns\")\n",
    "teams_post_df = teams_post_df.drop([\"lgID\"], axis=\"columns\")\n",
    "teams_df = teams_df.drop([\"lgID\",\"seeded\",\"arena\"], axis=\"columns\")\n",
    "#remove players whose birthDate is 0000-00-00\n",
    "players_df = players_df[players_df['birthDate'] != '0000-00-00']\n",
    "players_df = players_df.rename(columns={\"bioID\": \"playerID\"})\n",
    "players_df"
   ]
  },
  {
   "cell_type": "code",
   "execution_count": 4,
   "metadata": {},
   "outputs": [],
   "source": [
    "\"\"\"\n",
    "merged_players_df = pd.merge(players_df, awards_players_df, how=\"left\", on=\"playerID\")\n",
    "merged_players_df = pd.merge(merged_players_df, players_teams_df, how=\"left\", on=[\"playerID\",\"year\"])\n",
    "merged_df = pd.merge(teams_df, merged_players_df, how=\"left\", on=[\"year\", \"tmID\"])\n",
    "merged_df = pd.merge(merged_df, coaches_df, how=\"left\", on=[\"year\", \"tmID\"])\n",
    "merged_df = pd.merge(merged_df, teams_post_df, how=\"left\", on=[\"year\", \"tmID\"])\n",
    "merged_df = pd.merge(merged_df, series_post_df, how=\"left\", on=\"year\")\n",
    "\"\"\"\n",
    "\n",
    "merged_df = pd.merge(players_teams_df, players_df, how=\"left\", on=[\"playerID\"])\n",
    "merged_df = pd.merge(merged_df, awards_players_df, how=\"left\", on=[\"playerID\",\"year\"])\n",
    "merged_df[\"award\"] = merged_df[\"award\"].fillna(\"None\")\n",
    "teams_merged_df = pd.merge(teams_df, coaches_df, how=\"left\", on=[\"year\",\"tmID\"])\n",
    "merged_df = pd.merge(merged_df, teams_merged_df, how=\"left\", on=[\"year\",\"tmID\"])\n",
    "\n"
   ]
  },
  {
   "cell_type": "markdown",
   "metadata": {},
   "source": []
  },
  {
   "cell_type": "code",
   "execution_count": 5,
   "metadata": {},
   "outputs": [
    {
     "name": "stdout",
     "output_type": "stream",
     "text": [
      "N: 0\n",
      "Y: 1\n"
     ]
    }
   ],
   "source": [
    "from sklearn.preprocessing import LabelEncoder\n",
    "encoder = LabelEncoder()\n",
    "merged_df[\"playoff\"] = encoder.fit_transform(merged_df[\"playoff\"])\n",
    "\n",
    "# print what was mapped to what\n",
    "for idx, label in enumerate(encoder.classes_):\n",
    "    print(f\"{label}: {idx}\")"
   ]
  },
  {
   "cell_type": "code",
   "execution_count": 17,
   "metadata": {},
   "outputs": [
    {
     "ename": "AttributeError",
     "evalue": "'Legend' object has no attribute 'get_legend_handles_labels'",
     "output_type": "error",
     "traceback": [
      "\u001b[0;31m---------------------------------------------------------------------------\u001b[0m",
      "\u001b[0;31mAttributeError\u001b[0m                            Traceback (most recent call last)",
      "Cell \u001b[0;32mIn[17], line 16\u001b[0m\n\u001b[1;32m     14\u001b[0m     sb\u001b[38;5;241m.\u001b[39mhistplot(data\u001b[38;5;241m=\u001b[39mmerged_df1[col], color\u001b[38;5;241m=\u001b[39m\u001b[38;5;124m'\u001b[39m\u001b[38;5;124mred\u001b[39m\u001b[38;5;124m'\u001b[39m, label \u001b[38;5;241m=\u001b[39m \u001b[38;5;124m'\u001b[39m\u001b[38;5;124mY\u001b[39m\u001b[38;5;124m'\u001b[39m, kde\u001b[38;5;241m=\u001b[39m\u001b[38;5;28;01mTrue\u001b[39;00m)\n\u001b[1;32m     15\u001b[0m     sb\u001b[38;5;241m.\u001b[39mhistplot(data\u001b[38;5;241m=\u001b[39mmerged_df2[col], color\u001b[38;5;241m=\u001b[39m\u001b[38;5;124m'\u001b[39m\u001b[38;5;124mblue\u001b[39m\u001b[38;5;124m'\u001b[39m, label \u001b[38;5;241m=\u001b[39m \u001b[38;5;124m'\u001b[39m\u001b[38;5;124mN\u001b[39m\u001b[38;5;124m'\u001b[39m, kde\u001b[38;5;241m=\u001b[39m\u001b[38;5;28;01mTrue\u001b[39;00m)\n\u001b[0;32m---> 16\u001b[0m     handles, labels \u001b[38;5;241m=\u001b[39m \u001b[43mplt\u001b[49m\u001b[38;5;241;43m.\u001b[39;49m\u001b[43mgca\u001b[49m\u001b[43m(\u001b[49m\u001b[43m)\u001b[49m\u001b[38;5;241;43m.\u001b[39;49m\u001b[43mlegend\u001b[49m\u001b[43m(\u001b[49m\u001b[43m)\u001b[49m\u001b[38;5;241;43m.\u001b[39;49m\u001b[43mget_legend_handles_labels\u001b[49m() \n\u001b[1;32m     17\u001b[0m     plt\u001b[38;5;241m.\u001b[39mlegend(handles, labels,prop\u001b[38;5;241m=\u001b[39m{\u001b[38;5;124m'\u001b[39m\u001b[38;5;124msize\u001b[39m\u001b[38;5;124m'\u001b[39m: \u001b[38;5;241m10\u001b[39m})\n\u001b[1;32m     19\u001b[0m plt\u001b[38;5;241m.\u001b[39mshow()\n",
      "\u001b[0;31mAttributeError\u001b[0m: 'Legend' object has no attribute 'get_legend_handles_labels'"
     ]
    },
    {
     "data": {
      "image/png": "[encoded data removed]",
      "text/plain": [
       "<Figure size 2500x2500 with 1 Axes>"
      ]
     },
     "metadata": {},
     "output_type": "display_data"
    }
   ],
   "source": [
    "\n",
    "import matplotlib.pyplot as plt\n",
    "import seaborn as sb\n",
    "\n",
    "plt.figure(figsize=(25,25))\n",
    "plt.subplots_adjust(left=0.1,bottom=0.1,right=0.9,top=0.9,wspace=0.4,hspace=0.4)\n",
    "\n",
    "merged_df1 = merged_df[merged_df['playoff']==1].drop(['playoff'],axis=1)\n",
    "merged_df2 = merged_df[merged_df['playoff']==0].drop(['playoff'],axis=1)\n",
    "\n",
    "cols = list(merged_df1.columns)\n",
    "\n",
    "for i, col in enumerate(cols):\n",
    "    plt.subplot(11,11,i+1)\n",
    "    sb.histplot(data=merged_df1[col], color='red', label = 'Y', kde=True)\n",
    "    sb.histplot(data=merged_df2[col], color='blue', label = 'N', kde=True)\n",
    "    _,axes = plt.gca().get_legend_handles_labels()\n",
    "    plt.legend(axes,prop={'size': 10})\n",
    "\n",
    "plt.show()"
   ]
  },
  {
   "cell_type": "code",
   "execution_count": 22,
   "metadata": {},
   "outputs": [
    {
     "name": "stdout",
     "output_type": "stream",
     "text": [
      "playerID       False\n",
      "year           False\n",
      "stint_x        False\n",
      "tmID           False\n",
      "GP_x           False\n",
      "               ...  \n",
      "stint_y        False\n",
      "won_y          False\n",
      "lost_y         False\n",
      "post_wins      False\n",
      "post_losses    False\n",
      "Length: 111, dtype: bool\n"
     ]
    }
   ],
   "source": [
    "merged_df.isna().any()\n"
   ]
  }
 ],
 "metadata": {
  "kernelspec": {
   "display_name": "Python 3",
   "language": "python",
   "name": "python3"
  },
  "language_info": {
   "codemirror_mode": {
    "name": "ipython",
    "version": 3
   },
   "file_extension": ".py",
   "mimetype": "text/x-python",
   "name": "python",
   "nbconvert_exporter": "python",
   "pygments_lexer": "ipython3",
   "version": "3.12.5"
  }
 },
 "nbformat": 4,
 "nbformat_minor": 2
}
